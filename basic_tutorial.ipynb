{
 "cells": [
  {
   "cell_type": "markdown",
   "metadata": {
    "slideshow": {
     "slide_type": "slide"
    }
   },
   "source": [
    "<img align=\"left\" src=\"./logo.png\" width=300>\n",
    "\n",
    "# `Phaser`: BCDI Phase retrieval in Python\n",
    "\n",
    "## Created by: Siddharth Maddali\n",
    "### Argonne National Laboratory\n",
    "<a href=\"https://doi.org/10.5281/zenodo.4305131\" style=\"float: left;\"><img src=\"https://zenodo.org/badge/DOI/10.5281/zenodo.4305131.svg\" alt=\"DOI\"></a>"
   ]
  },
  {
   "cell_type": "markdown",
   "metadata": {},
   "source": [
    "# Initial setup"
   ]
  },
  {
   "cell_type": "code",
   "execution_count": 1,
   "metadata": {
    "ExecuteTime": {
     "end_time": "2020-02-24T21:04:46.246100Z",
     "start_time": "2020-02-24T21:04:44.742345Z"
    },
    "slideshow": {
     "slide_type": "-"
    }
   },
   "outputs": [],
   "source": [
    "import numpy as np\n",
    "\n",
    "# import custom modules\n",
    "import Phaser as ph\n",
    "import ExperimentalGeometry as exp # currently implements the motors at 34-ID-C\n",
    "import TilePlot as tp\n",
    "import PlotLikeMatlab as plm\n",
    "\n",
    "# plotting \n",
    "import matplotlib.pyplot as plt\n",
    "from matplotlib.colors import LogNorm\n",
    "\n",
    "\n",
    "# Module to read Matlab .mat files\n",
    "import scipy.io as sio"
   ]
  },
  {
   "cell_type": "code",
   "execution_count": 2,
   "metadata": {},
   "outputs": [],
   "source": [
    "# 'inline': non-interactive plot\n",
    "# 'notebook': interactive plot (Jupyter notebook)\n",
    "# 'widget': interactive plot (Jupyter lab)\n",
    "%matplotlib inline"
   ]
  },
  {
   "cell_type": "markdown",
   "metadata": {
    "slideshow": {
     "slide_type": "slide"
    }
   },
   "source": [
    "## Loading data set into Python"
   ]
  },
  {
   "cell_type": "code",
   "execution_count": 3,
   "metadata": {
    "ExecuteTime": {
     "end_time": "2020-02-24T21:04:49.941130Z",
     "start_time": "2020-02-24T21:04:49.891789Z"
    },
    "slideshow": {
     "slide_type": "fragment"
    }
   },
   "outputs": [
    {
     "name": "stdout",
     "output_type": "stream",
     "text": [
      "dict_keys(['__header__', '__version__', '__globals__', 'crystal_4', 'intens_coherent', 'intens_partcoh', 'signal', 'pcc_parameters', 'covariance_matrix'])\n",
      "Array size =  (128, 128, 70)\n"
     ]
    }
   ],
   "source": [
    "dataset = sio.loadmat( 'data.mat' )\n",
    "print( dataset.keys() )\n",
    "    # NOTE: if you opened this file in Matlab,\n",
    "    # you'd see only the 'data' variable in the workspace.\n",
    "    \n",
    "data = dataset[ 'intens_coherent' ] # the 3D data is now a numpy array.\n",
    "data = np.random.poisson( 3.e4 * data / data.max() )\n",
    "print( 'Array size = ', data.shape )"
   ]
  },
  {
   "cell_type": "markdown",
   "metadata": {
    "slideshow": {
     "slide_type": "slide"
    }
   },
   "source": [
    "## Pre-processing the dataset\n",
    "\n",
    "Assumes that the following are already done:\n",
    "   1. Stray scattering removed\n",
    "   1. White-field correction done\n",
    "   1. Background/hot pixels taken care of"
   ]
  },
  {
   "cell_type": "code",
   "execution_count": 4,
   "metadata": {
    "ExecuteTime": {
     "end_time": "2020-02-24T21:04:51.593465Z",
     "start_time": "2020-02-24T21:04:51.522191Z"
    },
    "slideshow": {
     "slide_type": "fragment"
    }
   },
   "outputs": [
    {
     "name": "stdout",
     "output_type": "stream",
     "text": [
      "Array size =  (128, 128, 70)\n",
      "Bragg peak initially at:  [64, 64, 35]\n",
      "Bragg peak now at:  [64, 64, 35]\n"
     ]
    }
   ],
   "source": [
    "# If necessary, trim the dataset to even dimensions \n",
    "# by removing the last image in the stack. Typically \n",
    "# this is not necessary for in-plane dimensions since \n",
    "# detectors are usually even-pixeled.\n",
    "\n",
    "# data = data[:,:,:-1]\n",
    "print( 'Array size = ', data.shape )\n",
    "\n",
    "maxHere = [ n[0] for n in np.where( data==data.max() ) ]\n",
    "print( 'Bragg peak initially at: ', maxHere )\n",
    "\n",
    "# Now centering Bragg peak in the array. If this is not done, you will see \n",
    "# a phase ramp in the final reconstruction.\n",
    "for n in [ 0, 1, 2 ]: \n",
    "    data = np.roll( data, data.shape[n]//2 - maxHere[n], axis=n )\n",
    "    \n",
    "maxHereNow = [ n[0] for n in np.where( data==data.max() ) ]\n",
    "print( 'Bragg peak now at: ', maxHereNow )"
   ]
  },
  {
   "cell_type": "markdown",
   "metadata": {
    "slideshow": {
     "slide_type": "slide"
    }
   },
   "source": [
    "## Creating initial support for phase retrieval\n",
    "   - This gets updated with a shrinkwrap algorithm\n",
    "   - Initial support should never be bigger than half of the array size along each axis."
   ]
  },
  {
   "cell_type": "code",
   "execution_count": 5,
   "metadata": {
    "ExecuteTime": {
     "end_time": "2020-02-24T21:04:53.789146Z",
     "start_time": "2020-02-24T21:04:53.721794Z"
    },
    "slideshow": {
     "slide_type": "-"
    }
   },
   "outputs": [],
   "source": [
    "shp = data.shape\n",
    "supInit = np.zeros( shp )\n",
    "supInit[ #   // means integer division in Python3, as opposed to /, the usual floating point division\n",
    "    ( shp[0]//2 - shp[0]//6 ):( shp[0]//2 + shp[0]//6 ), \n",
    "    ( shp[1]//2 - shp[1]//6 ):( shp[1]//2 + shp[1]//6 ), \n",
    "    ( shp[2]//2 - shp[2]//6 ):( shp[2]//2 + shp[2]//6 )\n",
    "] = 1."
   ]
  },
  {
   "cell_type": "markdown",
   "metadata": {
    "slideshow": {
     "slide_type": "slide"
    }
   },
   "source": [
    "# CPU tutorial \n",
    "## Create a phase retrieval solver object for CPU"
   ]
  },
  {
   "cell_type": "code",
   "execution_count": 6,
   "metadata": {
    "ExecuteTime": {
     "end_time": "2020-02-24T21:05:13.216253Z",
     "start_time": "2020-02-24T21:05:12.962624Z"
    }
   },
   "outputs": [],
   "source": [
    "PR = ph.Phaser( modulus=np.sqrt( data ) ) # support initialized inside"
   ]
  },
  {
   "cell_type": "markdown",
   "metadata": {
    "slideshow": {
     "slide_type": "fragment"
    }
   },
   "source": [
    "## Shrinkwrap\n",
    "Implemented in the method `PR.Shrinkwrap( sigma, thresh )`. \n",
    "   - Object modulus is convolved with a Gaussian (std deviation `sigma`)\n",
    "   - Thresholded to fraction `thresh` of the maximum value."
   ]
  },
  {
   "cell_type": "markdown",
   "metadata": {
    "slideshow": {
     "slide_type": "slide"
    }
   },
   "source": [
    "## Example recipe for phase retrieval\n",
    "   - 150 iterations of error reduction (ER), with support-updating every 30 iterations\n",
    "   - 300 iterations of hybrid input-output (HIO)\n",
    "   - 100 iterations of solvent-flipping (SF) with support-update every 25 iterations\n",
    "   - 300 iterations of hybrid input-output (HIO)\n",
    "   - 450 iterations of ER again, with support-updating every 90 iterations"
   ]
  },
  {
   "cell_type": "code",
   "execution_count": 7,
   "metadata": {
    "ExecuteTime": {
     "end_time": "2020-02-24T21:10:28.030935Z",
     "start_time": "2020-02-24T21:05:17.316954Z"
    },
    "slideshow": {
     "slide_type": "subslide"
    }
   },
   "outputs": [
    {
     "name": "stderr",
     "output_type": "stream",
     "text": [
      " ER: 100%|██████████| 30/30 [00:05<00:00,  5.36it/s]\n",
      " ER: 100%|██████████| 30/30 [00:05<00:00,  5.87it/s]\n",
      " ER: 100%|██████████| 30/30 [00:05<00:00,  5.62it/s]\n",
      " ER: 100%|██████████| 30/30 [00:05<00:00,  5.80it/s]\n",
      " ER: 100%|██████████| 30/30 [00:05<00:00,  5.75it/s]\n",
      "HIO: 100%|██████████| 300/300 [00:45<00:00,  6.56it/s]\n",
      " SF: 100%|██████████| 25/25 [00:03<00:00,  7.04it/s]\n",
      " SF: 100%|██████████| 25/25 [00:03<00:00,  7.10it/s]\n",
      " SF: 100%|██████████| 25/25 [00:03<00:00,  6.83it/s]\n",
      " SF: 100%|██████████| 25/25 [00:03<00:00,  6.35it/s]\n",
      "HIO: 100%|██████████| 300/300 [00:50<00:00,  5.99it/s]\n",
      " ER: 100%|██████████| 90/90 [00:15<00:00,  5.72it/s]\n",
      " ER: 100%|██████████| 90/90 [00:15<00:00,  5.77it/s]\n",
      " ER: 100%|██████████| 90/90 [00:15<00:00,  5.77it/s]\n",
      " ER: 100%|██████████| 90/90 [00:15<00:00,  5.83it/s]\n",
      " ER: 100%|██████████| 90/90 [00:15<00:00,  5.87it/s]\n"
     ]
    }
   ],
   "source": [
    "sigma = np.linspace( 5., 3., 5 )    #\n",
    "for sig in sigma:                   #  150 iters. of error reduction\n",
    "    PR.ER( 30, show_progress=True ) #  with shrinkwrap every 30 iters.\n",
    "    PR.Shrinkwrap( sig, 0.1 )       #\n",
    "    \n",
    "PR.HIO( 300, show_progress=True )   #  300 iterations of hybrid I/O\n",
    "\n",
    "sigma = np.linspace( 3., 2., 4 )\n",
    "for sig in sigma:                   #\n",
    "    PR.SF( 25, show_progress=True ) #  100 iterations of solvent flipping, \n",
    "    PR.Shrinkwrap( sig, 0.1 )       #  shrinkwrap every 25 iterations.\n",
    "    \n",
    "PR.HIO( 300, show_progress=True )   #  300 iterations of hybrid I/O\n",
    "\n",
    "sigma = np.linspace( 2., 1., 5 )\n",
    "for sig in sigma:                   #\n",
    "    PR.ER( 90, show_progress=True ) #  450 iterations of error reduction, \n",
    "    PR.Shrinkwrap( sig, 0.1 )       #  shrinkwrap every 90 iterations."
   ]
  },
  {
   "cell_type": "markdown",
   "metadata": {
    "slideshow": {
     "slide_type": "slide"
    }
   },
   "source": [
    "## Extracting image and support from black box"
   ]
  },
  {
   "cell_type": "code",
   "execution_count": 8,
   "metadata": {
    "ExecuteTime": {
     "end_time": "2020-02-24T21:12:41.987838Z",
     "start_time": "2020-02-24T21:12:41.889923Z"
    }
   },
   "outputs": [],
   "source": [
    "PR.Retrieve() # centers the compact object in array, and smooths it\n",
    "img = PR.finalImage\n",
    "sup = PR.finalSupport"
   ]
  },
  {
   "cell_type": "markdown",
   "metadata": {},
   "source": [
    "## Visualizing the result\n",
    "\n",
    "### Scatterer amplitude"
   ]
  },
  {
   "cell_type": "code",
   "execution_count": 9,
   "metadata": {},
   "outputs": [
    {
     "data": {
      "text/plain": [
       "Text(0.5, 409.19735294117646, 'XY')"
      ]
     },
     "execution_count": 9,
     "metadata": {},
     "output_type": "execute_result"
    },
    {
     "data": {
      "image/png": "[encoded data removed]",
      "text/plain": [
       "<Figure size 1080x1080 with 6 Axes>"
      ]
     },
     "metadata": {
      "needs_background": "light"
     },
     "output_type": "display_data"
    }
   ],
   "source": [
    "fig, im, ax = tp.TilePlot( \n",
    "    ( \n",
    "        np.absolute( img[64,29:99,:] ), \n",
    "        np.absolute( img[29:99,64,:] ), \n",
    "        np.absolute( img[29:99,29:99,35] )                                         \n",
    "    ),\n",
    "    ( 1, 3 )\n",
    ")\n",
    "\n",
    "ax[0].set_xlabel( 'YZ' )\n",
    "ax[1].set_xlabel( 'ZX' )\n",
    "ax[2].set_xlabel( 'XY' )\n",
    "\n",
    "# fig.savefig( 'images/scattererAmp.jpg' )"
   ]
  },
  {
   "cell_type": "markdown",
   "metadata": {
    "ExecuteTime": {
     "end_time": "2019-09-25T23:09:43.062219Z",
     "start_time": "2019-09-25T23:09:42.539057Z"
    },
    "slideshow": {
     "slide_type": "skip"
    }
   },
   "source": [
    "### Scatterer support"
   ]
  },
  {
   "cell_type": "code",
   "execution_count": 10,
   "metadata": {},
   "outputs": [
    {
     "data": {
      "text/plain": [
       "Text(0.5, 409.19735294117646, 'XY')"
      ]
     },
     "execution_count": 10,
     "metadata": {},
     "output_type": "execute_result"
    },
    {
     "data": {
      "image/png": "[encoded data removed]",
      "text/plain": [
       "<Figure size 1080x1080 with 6 Axes>"
      ]
     },
     "metadata": {
      "needs_background": "light"
     },
     "output_type": "display_data"
    }
   ],
   "source": [
    "fig, im, ax = tp.TilePlot( \n",
    "    ( \n",
    "        sup[64,29:99,:], \n",
    "        sup[29:99,64,:], \n",
    "        sup[29:99,29:99,35]                                         \n",
    "    ),\n",
    "    ( 1, 3 )\n",
    ")\n",
    "\n",
    "ax[0].set_xlabel( 'YZ' )\n",
    "ax[1].set_xlabel( 'ZX' )\n",
    "ax[2].set_xlabel( 'XY' )\n",
    "\n",
    "# fig.savefig( 'images/scattererSup.jpg')"
   ]
  },
  {
   "cell_type": "markdown",
   "metadata": {
    "ExecuteTime": {
     "end_time": "2019-09-25T23:09:44.772463Z",
     "start_time": "2019-09-25T23:09:44.410410Z"
    },
    "slideshow": {
     "slide_type": "skip"
    }
   },
   "source": [
    "### Scatterer phase"
   ]
  },
  {
   "cell_type": "code",
   "execution_count": 11,
   "metadata": {},
   "outputs": [
    {
     "data": {
      "text/plain": [
       "Text(0.5, 409.19735294117646, 'XY')"
      ]
     },
     "execution_count": 11,
     "metadata": {},
     "output_type": "execute_result"
    },
    {
     "data": {
      "image/png": "[encoded data removed]",
      "text/plain": [
       "<Figure size 1080x1080 with 6 Axes>"
      ]
     },
     "metadata": {
      "needs_background": "light"
     },
     "output_type": "display_data"
    }
   ],
   "source": [
    "fig, im, ax = tp.TilePlot( \n",
    "    ( \n",
    "        np.angle( img[64,29:99,:] ), \n",
    "        np.angle( img[29:99,64,:] ), \n",
    "        np.angle( img[29:99,29:99,35] )                                         \n",
    "    ),\n",
    "    ( 1, 3 )\n",
    ")\n",
    "\n",
    "ax[0].set_xlabel( 'YZ' )\n",
    "ax[1].set_xlabel( 'ZX' )\n",
    "ax[2].set_xlabel( 'XY' )\n",
    "\n",
    "# fig.savefig( 'images/scattererPh.jpg' )"
   ]
  },
  {
   "cell_type": "markdown",
   "metadata": {
    "ExecuteTime": {
     "end_time": "2019-09-25T23:09:49.060030Z",
     "start_time": "2019-09-25T23:09:48.549285Z"
    },
    "slideshow": {
     "slide_type": "skip"
    }
   },
   "source": [
    "### Reconstruction error"
   ]
  },
  {
   "cell_type": "code",
   "execution_count": 12,
   "metadata": {},
   "outputs": [
    {
     "data": {
      "text/plain": [
       "Text(0, 0.5, 'Error')"
      ]
     },
     "execution_count": 12,
     "metadata": {},
     "output_type": "execute_result"
    },
    {
     "data": {
      "image/png": "[encoded data removed]",
      "text/plain": [
       "<Figure size 432x288 with 1 Axes>"
      ]
     },
     "metadata": {
      "needs_background": "light"
     },
     "output_type": "display_data"
    }
   ],
   "source": [
    "plt.figure()\n",
    "plt.semilogy( PR.Error() )\n",
    "plt.grid()\n",
    "plt.xlabel( 'Iteration (n)' )\n",
    "plt.ylabel( 'Error' )\n",
    "\n",
    "# plt.savefig( 'images/reconErr.jpg' )"
   ]
  },
  {
   "cell_type": "markdown",
   "metadata": {},
   "source": [
    "# Isosurface plotting\n",
    "After the recipe has run and the object array is retrieved as shown above, its isosurface can be plotted with Matlab-like Python functions defined in the `PlotLikeMatlab` module. \n",
    "Any 3D rendering in Bragg phase retrieval should be aware of the sampling step sizes and directions in real space, that are implied by each of the three dimensions of the \n",
    "The `ExperimentalGeometry` module is needed to correctly resolve the 3D rendering of the object. \n",
    "\n",
    "For the purpose of demonstration, the phased object obtained above is assigned arbitrary experimental parameters below. \n",
    "In reality, these have to match the actual scan parameters from the measurement.\n",
    "This example is customized to the 34-ID-C experimental end station at the Adcanced Photon Source."
   ]
  },
  {
   "cell_type": "code",
   "execution_count": 13,
   "metadata": {},
   "outputs": [],
   "source": [
    "params = { # these are 34-ID-C parameters\n",
    "    'lam':1.378e-10, # wavelength in meters\n",
    "    'pix':55.e-6, # pixel pitch, meters\n",
    "    'arm':0.65, # sample-detector distance, meters\n",
    "    'gamma':45., # elevation, degrees\n",
    "    'delta':25., # azimuth, dgrees\n",
    "    'dtheta':0.01, # rocking step, degrees\n",
    "    'recipSpaceSteps':shp # object dimensions, pixels\n",
    "}\n",
    "geom = exp.ScatteringGeometry( **params )\n",
    "Bdet = geom.detectorFrame\n",
    "Breal, Brecip = tuple( Bdet.T @ this for this in geom.getSamplingBases() )\n",
    "    # real-space and Fourier-space sampling bases are now in the detector frame"
   ]
  },
  {
   "cell_type": "code",
   "execution_count": 14,
   "metadata": {},
   "outputs": [],
   "source": [
    "colorbar = {\n",
    "    'title':'Phase (rad)', \n",
    "    'vertical':True, \n",
    "    'interactive':True, \n",
    "    'label_font_size':20, \n",
    "    'title_font_size':25, \n",
    "    'font_family':'times', \n",
    "    'color':[ 0., 0., 0. ]\n",
    "}\n",
    "\n",
    "isol = plm.isosurface( \n",
    "    data=img, \n",
    "#     data=np.conj( np.flip( img, axis=[ 0, 1, 2 ] ) ), # use this for the mirror twin solution\n",
    "    isoval=0.5,\n",
    "    Br=Breal, \n",
    "    colorbar=colorbar\n",
    ")\n",
    "isol.set_background( [ 0.5, 0.5, 0.5 ] )\n",
    "# plm.savefig3d( isol, 'images/isol' ) # saves as pdf"
   ]
  },
  {
   "cell_type": "markdown",
   "metadata": {},
   "source": [
    "## Phased object: isosurface\n",
    "\n",
    "<img src=\"images/isol.png\" width=600>"
   ]
  },
  {
   "cell_type": "markdown",
   "metadata": {},
   "source": [
    "Note the different shape of the object above, compared to the pixelated reconstructions. \n",
    "This is simply a demonstration in the use of `Breal`. \n",
    "In a reconstruction with real-world data, a similar isosurface with the properly calculated `Breal` is guaranteed to be rendered correctly."
   ]
  },
  {
   "cell_type": "markdown",
   "metadata": {
    "slideshow": {
     "slide_type": "slide"
    }
   },
   "source": [
    "# Recipe strings"
   ]
  },
  {
   "cell_type": "markdown",
   "metadata": {
    "slideshow": {
     "slide_type": "-"
    }
   },
   "source": [
    "`Phaser` can also run an entire phase retrieval recipe by parsing \"recipe strings\", which are simply Python strings that encode a phase retrieval recipe. \n",
    "See `RecipeParser.py` documentation for more details.\n",
    "\n",
    "   - Recipe string for 30 iterations of ER is simply:<br/>`'ER:30'`.  \n",
    "   \n",
    "   - Recipe string for 100 ER followed by 25 HIO, followed by 40 SF:<br/>`'ER:100+HIO:25+SF:40'`\n",
    "   \n",
    "   - Shrinkwrap recipe string format:<br/>`'SR:<sigma>:<thresh>'`"
   ]
  },
  {
   "cell_type": "markdown",
   "metadata": {
    "slideshow": {
     "slide_type": "slide"
    }
   },
   "source": [
    "## Generating the recipe string for the CPU recipe above"
   ]
  },
  {
   "cell_type": "code",
   "execution_count": 15,
   "metadata": {
    "ExecuteTime": {
     "end_time": "2020-02-24T21:15:06.748529Z",
     "start_time": "2020-02-24T21:15:06.699718Z"
    },
    "slideshow": {
     "slide_type": "-"
    }
   },
   "outputs": [
    {
     "name": "stdout",
     "output_type": "stream",
     "text": [
      "ER:30+SR:5.00:0.1+ER:30+SR:4.50:0.1+ER:30+SR:4.00:0.1+ER:30+SR:3.50:0.1+ER:30+SR:3.00:0.1+HIO:300+SF:25+SR:3.00:0.1+SF:25+SR:2.67:0.1+SF:25+SR:2.33:0.1+SF:25+SR:2.00:0.1+HIO:300+ER:90+SR:2.00:0.1+ER:90+SR:1.75:0.1+ER:90+SR:1.50:0.1+ER:90+SR:1.25:0.1+ER:90+SR:1.00:0.1\n"
     ]
    }
   ],
   "source": [
    "recipestr1 = '+'.join( [ 'ER:30+SR:%.2f:0.1'%sig for sig in np.linspace( 5., 3., 5 ) ] )\n",
    "recipestr2 = '+'.join( [ 'SF:25+SR:%.2f:0.1'%sig for sig in np.linspace( 3., 2., 4 ) ] )\n",
    "recipestr3 = '+'.join( [ 'ER:90+SR:%.2f:0.1'%sig for sig in np.linspace( 2., 1., 5 ) ] )\n",
    "recipestr = '+HIO:300+'.join( [ recipestr1, recipestr2, recipestr3 ] )\n",
    "print( recipestr )"
   ]
  },
  {
   "cell_type": "markdown",
   "metadata": {
    "slideshow": {
     "slide_type": "slide"
    }
   },
   "source": [
    "## Running the recipe using the string\n",
    "\n",
    "Here, starting with a new `Phaser` object and use the `runRecipe` method..."
   ]
  },
  {
   "cell_type": "code",
   "execution_count": 16,
   "metadata": {
    "ExecuteTime": {
     "end_time": "2020-02-24T21:20:21.576807Z",
     "start_time": "2020-02-24T21:15:12.564823Z"
    },
    "slideshow": {
     "slide_type": "-"
    }
   },
   "outputs": [
    {
     "name": "stderr",
     "output_type": "stream",
     "text": [
      " ER: 100%|██████████| 30/30 [00:05<00:00,  5.67it/s]\n",
      " ER: 100%|██████████| 30/30 [00:05<00:00,  5.69it/s]\n",
      " ER: 100%|██████████| 30/30 [00:05<00:00,  5.71it/s]\n",
      " ER: 100%|██████████| 30/30 [00:05<00:00,  5.74it/s]\n",
      " ER: 100%|██████████| 30/30 [00:05<00:00,  5.75it/s]\n",
      "HIO: 100%|██████████| 300/300 [00:50<00:00,  5.93it/s]\n",
      " SF: 100%|██████████| 25/25 [00:03<00:00,  6.53it/s]\n",
      " SF: 100%|██████████| 25/25 [00:03<00:00,  6.39it/s]\n",
      " SF: 100%|██████████| 25/25 [00:03<00:00,  6.35it/s]\n",
      " SF: 100%|██████████| 25/25 [00:03<00:00,  6.51it/s]\n",
      "HIO: 100%|██████████| 300/300 [00:49<00:00,  6.01it/s]\n",
      " ER: 100%|██████████| 90/90 [00:15<00:00,  5.78it/s]\n",
      " ER: 100%|██████████| 90/90 [00:15<00:00,  5.82it/s]\n",
      " ER: 100%|██████████| 90/90 [00:15<00:00,  5.84it/s]\n",
      " ER: 100%|██████████| 90/90 [00:15<00:00,  5.85it/s]\n",
      " ER: 100%|██████████| 90/90 [00:15<00:00,  5.85it/s]\n"
     ]
    }
   ],
   "source": [
    "PR_alt = ph.Phaser( modulus=np.sqrt( data ) )\n",
    "PR_alt.runRecipe( recipestr, show_progress=True )\n",
    "PR.Retrieve() \n",
    "img = PR.finalImage\n",
    "sup = PR.finalSupport"
   ]
  },
  {
   "cell_type": "markdown",
   "metadata": {
    "slideshow": {
     "slide_type": "-"
    }
   },
   "source": [
    "... and so on, to get the same result!\n",
    "\n",
    "   - Recipe strings can be used in parallelized phase retrieval.\n",
    "   - Disabling the progress bars in the above example (`show_progress=False`) will likely speed up the whole recipe.\n",
    "   - Recipe strings can work with CPU as well as GPU without loss of generality."
   ]
  },
  {
   "cell_type": "markdown",
   "metadata": {
    "slideshow": {
     "slide_type": "slide"
    }
   },
   "source": [
    "# GPU tutorial"
   ]
  },
  {
   "cell_type": "code",
   "execution_count": 17,
   "metadata": {
    "ExecuteTime": {
     "end_time": "2020-02-24T21:21:55.131605Z",
     "start_time": "2020-02-24T21:21:12.669719Z"
    }
   },
   "outputs": [],
   "source": [
    "PR2 = ph.Phaser( modulus=np.sqrt( data ), gpu=True ).gpusolver"
   ]
  },
  {
   "cell_type": "markdown",
   "metadata": {
    "slideshow": {
     "slide_type": "subslide"
    }
   },
   "source": [
    "## Recipe for GPU phase retrieval (identical to earlier CPU recipe)\n",
    "   Notice how **obscenely faster** the same recipe runs on the GPU!\n",
    "   In my case, this was a single [**NVidia GeForce GTX 1650**](https://www.nvidia.com/en-us/geforce/graphics-cards/gtx-1650/) with 4 MiB memory."
   ]
  },
  {
   "cell_type": "code",
   "execution_count": 18,
   "metadata": {
    "ExecuteTime": {
     "end_time": "2020-02-24T21:23:16.036347Z",
     "start_time": "2020-02-24T21:22:58.824126Z"
    }
   },
   "outputs": [
    {
     "name": "stderr",
     "output_type": "stream",
     "text": [
      " ER: 100%|██████████| 30/30 [00:00<00:00, 117.66it/s]\n",
      " ER: 100%|██████████| 30/30 [00:00<00:00, 334.29it/s]\n",
      " ER: 100%|██████████| 30/30 [00:00<00:00, 345.83it/s]\n",
      " ER: 100%|██████████| 30/30 [00:00<00:00, 341.42it/s]\n",
      " ER: 100%|██████████| 30/30 [00:00<00:00, 334.90it/s]\n",
      "HIO: 100%|██████████| 300/300 [00:00<00:00, 307.20it/s]\n",
      " SF: 100%|██████████| 25/25 [00:00<00:00, 392.62it/s]\n",
      " SF: 100%|██████████| 25/25 [00:00<00:00, 383.11it/s]\n",
      " SF: 100%|██████████| 25/25 [00:00<00:00, 396.17it/s]\n",
      " SF: 100%|██████████| 25/25 [00:00<00:00, 399.89it/s]\n",
      "HIO: 100%|██████████| 300/300 [00:00<00:00, 313.50it/s]\n",
      " ER: 100%|██████████| 90/90 [00:00<00:00, 346.28it/s]\n",
      " ER: 100%|██████████| 90/90 [00:00<00:00, 340.75it/s]\n",
      " ER: 100%|██████████| 90/90 [00:00<00:00, 360.89it/s]\n",
      " ER: 100%|██████████| 90/90 [00:00<00:00, 344.63it/s]\n",
      " ER: 100%|██████████| 90/90 [00:00<00:00, 330.79it/s]\n"
     ]
    }
   ],
   "source": [
    "sigma = np.linspace( 5., 3., 5 )    #\n",
    "for sig in sigma:                   #  150 iters. of error reduction\n",
    "    PR2.ER( 30, show_progress=True ) #  with shrinkwrap every 30 iters.\n",
    "    PR2.Shrinkwrap( sig, 0.1 )       #\n",
    "    \n",
    "PR2.HIO( 300, show_progress=True )   #  300 iterations of hybrid I/O\n",
    "\n",
    "sigma = np.linspace( 3., 2., 4 )\n",
    "for sig in sigma:                   #\n",
    "    PR2.SF( 25, show_progress=True ) #  100 iterations of solvent flipping, \n",
    "    PR2.Shrinkwrap( sig, 0.1 )       #  shrinkwrap every 25 iterations.\n",
    "    \n",
    "PR2.HIO( 300, show_progress=True )   #  300 iterations of hybrid I/O\n",
    "\n",
    "sigma = np.linspace( 2., 1., 5 )\n",
    "for sig in sigma:                   #\n",
    "    PR2.ER( 90, show_progress=True ) #  450 iterations of error reduction, \n",
    "    PR2.Shrinkwrap( sig, 0.1 )       #  shrinkwrap every 90 iterations."
   ]
  },
  {
   "cell_type": "markdown",
   "metadata": {
    "slideshow": {
     "slide_type": "slide"
    }
   },
   "source": [
    "## Extracting image and support from black box `PR2`\n",
    "Same way as for the CPU recipe: \n",
    "```python\n",
    "PR2.Retrieve()\n",
    "img = PR2.finalImage\n",
    "sup = PR2.finalSupport\n",
    "```"
   ]
  },
  {
   "cell_type": "markdown",
   "metadata": {},
   "source": [
    "# Parallelization on CPU/GPU\n",
    "\n",
    "   - Implemented using MPI bindings for Python (`mpi4py`).\n",
    "   - Uses recipe strings for efficient parallelization.\n",
    "   - See Python script `Guided.py` for a basic CPU tutorial and `Guided_GPU.py` for the corresponding GPU tutorial.\n",
    "   - Usage: \n",
    "       - Install `mpi4py`: instructions [here](https://mpi4py.readthedocs.io/en/stable/install.html).\n",
    "       - Run the script from the Bash (not Python!) command line; for example, to parallelize on 4 processors:\n",
    "       ```bash\n",
    "       $ mpirun -n 4 python Guided.py\n",
    "        ```\n",
    "   - The genetic algorithms implemented are described in [A. Ulvestad et al. _Sci Rep_ 7, 9920 (2017)](https://doi.org/10.1038/s41598-017-09582-7).\n",
    "\n",
    "## CAUTION\n",
    "\n",
    "   1. There seems to be significant overhead introduced when scaling up to multiple processors; this can be offset somewhat by keeping the phase retrieval recipe itself short and simple."
   ]
  },
  {
   "cell_type": "markdown",
   "metadata": {},
   "source": [
    "# Partial coherence correction (PCC)\n",
    "For a partially coherent beam, Phaser allows for an estimate of the partial coherence function (PCF) in addition to executing the recipe.\n",
    "The PCF is modeled as a 6-parameter Gaussian blurring function in 3D (based on the analysis presented in [Maddali et al., _Phys. Rev. Applied_ **14**, 024085 (2020)](https://link.aps.org/doi/10.1103/PhysRevApplied.14.024085)). \n",
    "The inferred diffraction signal is obtained by convolving the coherent diffraction intensity with the PCF.\n",
    "\n",
    "Currently the partial coherence correction is implemented only on the GPU.\n",
    "A synthetic partially coherent dataset is generated and reconstructed for this demonstration. "
   ]
  },
  {
   "cell_type": "markdown",
   "metadata": {},
   "source": [
    "## PCC implementation\n",
    "\n",
    "A full tutorial is available [here](https://nbviewer.jupyter.org/github/siddharth-maddali/Phaser/blob/master/partial_coherence.ipynb). "
   ]
  },
  {
   "cell_type": "markdown",
   "metadata": {},
   "source": [
    "# Acknowledgements\n",
    "\n",
    "   - **Matthew Wilkin** (Dept. of Materials Science and Engg., Carnegie Mellon University) <br/>\n",
    "   for finding bugs through continued usage and even fixing them."
   ]
  }
 ],
 "metadata": {
  "celltoolbar": "Slideshow",
  "hide_input": false,
  "kernelspec": {
   "display_name": "Python 3",
   "language": "python",
   "name": "python3"
  },
  "language_info": {
   "codemirror_mode": {
    "name": "ipython",
    "version": 3
   },
   "file_extension": ".py",
   "mimetype": "text/x-python",
   "name": "python",
   "nbconvert_exporter": "python",
   "pygments_lexer": "ipython3",
   "version": "3.7.6"
  },
  "latex_envs": {
   "LaTeX_envs_menu_present": true,
   "autoclose": false,
   "autocomplete": false,
   "bibliofile": "biblio.bib",
   "cite_by": "apalike",
   "current_citInitial": 1,
   "eqLabelWithNumbers": true,
   "eqNumInitial": 1,
   "hotkeys": {
    "equation": "Ctrl-E",
    "itemize": "Ctrl-I"
   },
   "labels_anchors": false,
   "latex_user_defs": false,
   "report_style_numbering": false,
   "user_envs_cfg": false
  },
  "toc": {
   "base_numbering": 1,
   "nav_menu": {},
   "number_sections": true,
   "sideBar": true,
   "skip_h1_title": false,
   "title_cell": "Table of Contents",
   "title_sidebar": "Contents",
   "toc_cell": false,
   "toc_position": {
    "height": "calc(100% - 180px)",
    "left": "10px",
    "top": "150px",
    "width": "175px"
   },
   "toc_section_display": true,
   "toc_window_display": true
  }
 },
 "nbformat": 4,
 "nbformat_minor": 4
}
