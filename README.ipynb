{
 "cells": [
  {
   "cell_type": "markdown",
   "metadata": {
    "slideshow": {
     "slide_type": "slide"
    }
   },
   "source": [
    "<img align=\"left\" src=\"./logo.png\" width=300>\n",
    "\n",
    "# `Phaser`: BCDI Phase retrieval in Python\n",
    "\n",
    "\n",
    "\n",
    "## Created by: Siddharth Maddali\n",
    "### Argonne National Laboratory\n",
    "\n",
    "<a href=\"https://doi.org/10.5281/zenodo.4305131\" style=\"float: left;\"><img src=\"https://zenodo.org/badge/DOI/10.5281/zenodo.4305131.svg\" alt=\"DOI\"></a>\n"
   ]
  },
  {
   "cell_type": "markdown",
   "metadata": {},
   "source": [
    "## MOST RECENT UPDATES\n",
    "   * Genetic algorithms now properly parallelize on the GPU with MPI. \n",
    "   Look at new script `Guided_GPU.py` for GPU usage of genetic algorithms. \n",
    "   \n",
    "## Full changelog\n",
    "\n",
    "   1. `Core.ImageRestart` now automatically `fftshift`s input arrays.\n",
    "   1. Now suppressing Tensorflow messages in the command line (comment `os.environ` statement in `Phaser.py` to undo this). \n",
    "   1. `GPUModule_Core.ImageRestart` now shadows functionality of `Core.ImageRestart`. \n",
    "   1. Slight tweak to `Guided.py` logging.\n",
    "   1. New file `Guided_GPU.py` runs genetic algorithms using GPU + `mpi4py`. \n",
    "   1. ASCII-art of new logo in `Phaser.py`\n",
    "   1. `PostProcessing.centerObject` now removes phase ramps. "
   ]
  },
  {
   "cell_type": "markdown",
   "metadata": {
    "slideshow": {
     "slide_type": "slide"
    }
   },
   "source": [
    "   # Introduction\n",
    "   - Basic Python tutorial of module `Phaser` for BCDI phase retrieval."
   ]
  },
  {
   "cell_type": "markdown",
   "metadata": {
    "slideshow": {
     "slide_type": "fragment"
    }
   },
   "source": [
    "   - Contains diffraction geometry modules for the 34-ID-C setup at the Advanced Photon Source.\n",
    "       - Can be easily adapted to other geometries, **please open an issue as a feature request if you need this done for your beamline**."
   ]
  },
  {
   "cell_type": "markdown",
   "metadata": {
    "slideshow": {
     "slide_type": "fragment"
    }
   },
   "source": [
    "   - Modular, much simpler to use and modify than existing Matlab legacy code."
   ]
  },
  {
   "cell_type": "markdown",
   "metadata": {
    "slideshow": {
     "slide_type": "fragment"
    }
   },
   "source": [
    "   - Current dependencies (as  determined by [`pipreqs`](https://github.com/bndr/pipreqs))\n",
    "```\n",
    "matplotlib==3.1.3\n",
    "scikit_image==0.16.2\n",
    "tensorflow==2.2.0\n",
    "mpi4py==3.0.3\n",
    "tqdm==4.42.1\n",
    "numpy==1.18.1\n",
    "scipy==1.4.1\n",
    "pyfftw==0.12.0\n",
    "pyvista==0.32.0\n",
    "pyvistaqt==0.5.0\n",
    "skimage==0.0\n",
    "vtk==9.0.3\n",
    "```\n",
    " \n",
    "- These modules are based on my current Python environment. \n",
    "- All modules can be installed in the usual way: `pip install <module>`.\n",
    "- The `tensorflow 1.x`-compatible library is available on branch `tensorflow-1.x` of this repo.\n",
    "       "
   ]
  },
  {
   "cell_type": "markdown",
   "metadata": {},
   "source": [
    "# Quick start\n",
    "\n",
    "A full tutorial on using Phaser to reconstruct your BCDI data is available [here](https://nbviewer.jupyter.org/github/siddharth-maddali/Phaser/blob/master/basic_tutorial.ipynb)."
   ]
  }
 ],
 "metadata": {
  "celltoolbar": "Slideshow",
  "hide_input": false,
  "kernelspec": {
   "display_name": "Python 3",
   "language": "python",
   "name": "python3"
  },
  "language_info": {
   "codemirror_mode": {
    "name": "ipython",
    "version": 3
   },
   "file_extension": ".py",
   "mimetype": "text/x-python",
   "name": "python",
   "nbconvert_exporter": "python",
   "pygments_lexer": "ipython3",
   "version": "3.7.6"
  },
  "latex_envs": {
   "LaTeX_envs_menu_present": true,
   "autoclose": false,
   "autocomplete": false,
   "bibliofile": "biblio.bib",
   "cite_by": "apalike",
   "current_citInitial": 1,
   "eqLabelWithNumbers": true,
   "eqNumInitial": 1,
   "hotkeys": {
    "equation": "Ctrl-E",
    "itemize": "Ctrl-I"
   },
   "labels_anchors": false,
   "latex_user_defs": false,
   "report_style_numbering": false,
   "user_envs_cfg": false
  },
  "toc": {
   "base_numbering": 1,
   "nav_menu": {},
   "number_sections": true,
   "sideBar": true,
   "skip_h1_title": false,
   "title_cell": "Table of Contents",
   "title_sidebar": "Contents",
   "toc_cell": false,
   "toc_position": {
    "height": "calc(100% - 180px)",
    "left": "10px",
    "top": "150px",
    "width": "175px"
   },
   "toc_section_display": true,
   "toc_window_display": true
  }
 },
 "nbformat": 4,
 "nbformat_minor": 4
}
