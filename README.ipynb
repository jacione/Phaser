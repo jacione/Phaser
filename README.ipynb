{
 "cells": [
  {
   "cell_type": "markdown",
   "metadata": {
    "slideshow": {
     "slide_type": "slide"
    }
   },
   "source": [
    "<img align=\"left\" src=\"./logo.png\" width=450>\n",
    "\n",
    "# `Phaser`: BCDI Phase retrieval in Python\n",
    "\n",
    "## Created by: Siddharth Maddali\n",
    "### Argonne National Laboratory"
   ]
  },
  {
   "cell_type": "markdown",
   "metadata": {
    "slideshow": {
     "slide_type": "slide"
    }
   },
   "source": [
    "   # Introduction\n",
    "   - Basic Python tutorial of module `Phaser` for BCDI phase retrieval."
   ]
  },
  {
   "cell_type": "markdown",
   "metadata": {
    "slideshow": {
     "slide_type": "fragment"
    }
   },
   "source": [
    "   - Contains diffraction geometry modules for the 34-ID-C setup at the Advanced Photon Source.\n",
    "       - Can be easily adapted to other geometries, **please open an issue as a feature request if you need this done for your beamline**."
   ]
  },
  {
   "cell_type": "markdown",
   "metadata": {
    "slideshow": {
     "slide_type": "fragment"
    }
   },
   "source": [
    "   - Modular, much simpler to use and modify than existing Matlab legacy code."
   ]
  },
  {
   "cell_type": "markdown",
   "metadata": {
    "slideshow": {
     "slide_type": "fragment"
    }
   },
   "source": [
    "   - Current dependencies (as  determined by [`pipreqs`](https://github.com/bndr/pipreqs))\n",
    "   ```\n",
    "tqdm==4.50.2\n",
    "vtk==9.0.1\n",
    "matplotlib==3.3.2\n",
    "pyvistaqt==0.2.0\n",
    "scipy==1.5.3\n",
    "scikit_image==0.17.2\n",
    "tensorflow_gpu==2.3.1\n",
    "pyvista==0.27.2\n",
    "numpy==1.19.2\n",
    "pyFFTW==0.12.0\n",
    "mpi4py==3.0.3\n",
    "skimage==0.0\n",
    "tensorflow==2.4.1\n",
    "   ```\n",
    " \n",
    "- These modules are based on my current Python environment. \n",
    "- All modules can be installed in the usual way: `pip install <module>`.\n",
    "- The `tensorflow 1.x`-compatible library is available on branch `tensorflow-1.x` of this repo.\n",
    "       "
   ]
  },
  {
   "cell_type": "markdown",
   "metadata": {},
   "source": [
    "# Quick start\n",
    "\n",
    "A full tutorial on using Phaser to reconstruct your BCDI data is available [here](https://nbviewer.jupyter.org/github/siddharth-maddali/Phaser/blob/master/tutorial.ipynb)."
   ]
  }
 ],
 "metadata": {
  "celltoolbar": "Slideshow",
  "hide_input": false,
  "kernelspec": {
   "display_name": "Python 3",
   "language": "python",
   "name": "python3"
  },
  "language_info": {
   "codemirror_mode": {
    "name": "ipython",
    "version": 3
   },
   "file_extension": ".py",
   "mimetype": "text/x-python",
   "name": "python",
   "nbconvert_exporter": "python",
   "pygments_lexer": "ipython3",
   "version": "3.8.10"
  },
  "latex_envs": {
   "LaTeX_envs_menu_present": true,
   "autoclose": false,
   "autocomplete": false,
   "bibliofile": "biblio.bib",
   "cite_by": "apalike",
   "current_citInitial": 1,
   "eqLabelWithNumbers": true,
   "eqNumInitial": 1,
   "hotkeys": {
    "equation": "Ctrl-E",
    "itemize": "Ctrl-I"
   },
   "labels_anchors": false,
   "latex_user_defs": false,
   "report_style_numbering": false,
   "user_envs_cfg": false
  },
  "toc": {
   "base_numbering": 1,
   "nav_menu": {},
   "number_sections": true,
   "sideBar": true,
   "skip_h1_title": false,
   "title_cell": "Table of Contents",
   "title_sidebar": "Contents",
   "toc_cell": false,
   "toc_position": {
    "height": "calc(100% - 180px)",
    "left": "10px",
    "top": "150px",
    "width": "175px"
   },
   "toc_section_display": true,
   "toc_window_display": true
  }
 },
 "nbformat": 4,
 "nbformat_minor": 4
}
